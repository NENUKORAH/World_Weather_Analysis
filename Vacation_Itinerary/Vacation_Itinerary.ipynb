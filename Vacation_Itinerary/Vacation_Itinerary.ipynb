{
 "cells": [
  {
   "cell_type": "markdown",
   "metadata": {},
   "source": [
    "## Deliverable 3. Create a Travel Itinerary Map."
   ]
  },
  {
   "cell_type": "code",
   "execution_count": 1,
   "metadata": {},
   "outputs": [],
   "source": [
    "# Dependencies and Setup\n",
    "import pandas as pd\n",
    "import requests\n",
    "import gmaps\n",
    "\n",
    "# Import API key\n",
    "from config import g_key\n",
    "\n",
    "# Configure gmaps\n",
    "gmaps.configure(api_key=g_key)"
   ]
  },
  {
   "cell_type": "code",
   "execution_count": 2,
   "metadata": {},
   "outputs": [
    {
     "output_type": "execute_result",
     "data": {
      "text/plain": [
       "   City_ID        City Country  Max Temp Current Description      Lat  \\\n",
       "0       10  Butaritari      KI     83.91          light rain   3.0707   \n",
       "1       12        Aden      YE     86.41     overcast clouds  12.7794   \n",
       "2       14     Salinas      US     81.57     overcast clouds  36.6777   \n",
       "3       15    Westport      US     75.74           clear sky  41.1415   \n",
       "4       18         Leo      BF     87.64     overcast clouds  11.1000   \n",
       "\n",
       "        Lng                      Hotel Name  \n",
       "0  172.7902              Isles Sunset Lodge  \n",
       "1   45.0367              Sama Emirate Hotel  \n",
       "2 -121.6555  Laurel Inn & Conference Center  \n",
       "3  -73.3579                The Westport Inn  \n",
       "4   -2.1000                  Hotel Sissilis  "
      ],
      "text/html": "<div>\n<style scoped>\n    .dataframe tbody tr th:only-of-type {\n        vertical-align: middle;\n    }\n\n    .dataframe tbody tr th {\n        vertical-align: top;\n    }\n\n    .dataframe thead th {\n        text-align: right;\n    }\n</style>\n<table border=\"1\" class=\"dataframe\">\n  <thead>\n    <tr style=\"text-align: right;\">\n      <th></th>\n      <th>City_ID</th>\n      <th>City</th>\n      <th>Country</th>\n      <th>Max Temp</th>\n      <th>Current Description</th>\n      <th>Lat</th>\n      <th>Lng</th>\n      <th>Hotel Name</th>\n    </tr>\n  </thead>\n  <tbody>\n    <tr>\n      <th>0</th>\n      <td>10</td>\n      <td>Butaritari</td>\n      <td>KI</td>\n      <td>83.91</td>\n      <td>light rain</td>\n      <td>3.0707</td>\n      <td>172.7902</td>\n      <td>Isles Sunset Lodge</td>\n    </tr>\n    <tr>\n      <th>1</th>\n      <td>12</td>\n      <td>Aden</td>\n      <td>YE</td>\n      <td>86.41</td>\n      <td>overcast clouds</td>\n      <td>12.7794</td>\n      <td>45.0367</td>\n      <td>Sama Emirate Hotel</td>\n    </tr>\n    <tr>\n      <th>2</th>\n      <td>14</td>\n      <td>Salinas</td>\n      <td>US</td>\n      <td>81.57</td>\n      <td>overcast clouds</td>\n      <td>36.6777</td>\n      <td>-121.6555</td>\n      <td>Laurel Inn &amp; Conference Center</td>\n    </tr>\n    <tr>\n      <th>3</th>\n      <td>15</td>\n      <td>Westport</td>\n      <td>US</td>\n      <td>75.74</td>\n      <td>clear sky</td>\n      <td>41.1415</td>\n      <td>-73.3579</td>\n      <td>The Westport Inn</td>\n    </tr>\n    <tr>\n      <th>4</th>\n      <td>18</td>\n      <td>Leo</td>\n      <td>BF</td>\n      <td>87.64</td>\n      <td>overcast clouds</td>\n      <td>11.1000</td>\n      <td>-2.1000</td>\n      <td>Hotel Sissilis</td>\n    </tr>\n  </tbody>\n</table>\n</div>"
     },
     "metadata": {},
     "execution_count": 2
    }
   ],
   "source": [
    "# 1. Read the WeatherPy_vacation.csv into a DataFrame.\n",
    "vacation_df = pd.read_csv(\"../vacation_search/weatherPy_vacation.csv\")\n",
    "vacation_df.head()"
   ]
  },
  {
   "cell_type": "code",
   "execution_count": 4,
   "metadata": {},
   "outputs": [],
   "source": [
    "# 2. Using the template add the city name, the country code, the weather description and maximum temperature for the city.\n",
    "info_box_template = \"\"\"\n",
    "<dl>\n",
    "<dt>Hotel Name</dt><dd>{Hotel Name}</dd>\n",
    "<dt>City</dt><dd>{City}</dd>\n",
    "<dt>Country</dt><dd>{Country}</dd>\n",
    "<dt>Weather Description</dt><dd>{Current Description}</dd>\n",
    "<dt>Max Temp</dt><dd>{Max Temp} °F</dd>\n",
    "</dl>\n",
    "\"\"\"\n",
    "\n",
    "# 3a. Get the data from each row and add it to the formatting template and store the data in a list.\n",
    "hotel_info = [info_box_template.format(**row) for index, row in vacation_df.iterrows()]\n",
    "\n",
    "# 3b. Get the latitude and longitude from each row and store in a new DataFrame.\n",
    "locations = vacation_df[[\"Lat\", \"Lng\"]]"
   ]
  },
  {
   "cell_type": "code",
   "execution_count": 5,
   "metadata": {},
   "outputs": [
    {
     "output_type": "display_data",
     "data": {
      "text/plain": "Figure(layout=FigureLayout(height='420px'))",
      "application/vnd.jupyter.widget-view+json": {
       "version_major": 2,
       "version_minor": 0,
       "model_id": "d85636257b24446c91cfeba55fc9a54c"
      }
     },
     "metadata": {}
    }
   ],
   "source": [
    "# 4a. Add a marker layer for each city to the map.\n",
    "fig = gmaps.figure(center=(30.0, 31.0), zoom_level=1.4)\n",
    "marker_layer = gmaps.marker_layer(locations, info_box_content=hotel_info)\n",
    "fig.add_layer(marker_layer)\n",
    "# 4b. Display the figure\n",
    "fig\n"
   ]
  },
  {
   "cell_type": "code",
   "execution_count": 43,
   "metadata": {},
   "outputs": [],
   "source": [
    "# From the map above pick 4 cities and create a vacation itinerary route to travel between the four cities. \n",
    "# 5. Create DataFrames for each city by filtering the 'vacation_df' using the loc method. \n",
    "# Hint: The starting and ending city should be the same city.\n",
    "\n",
    "vacation_start = vacation_df.loc[vacation_df['City'] == 'Bud']\n",
    "vacation_end = vacation_df.loc[vacation_df['City'] == 'Bud']\n",
    "vacation_stop1 = vacation_df.loc[vacation_df['City'] == 'Westport']\n",
    "vacation_stop2 = vacation_df.loc[vacation_df['City'] == 'Havelock'] \n",
    "vacation_stop3 = vacation_df.loc[vacation_df['City'] == 'Crestview'] "
   ]
  },
  {
   "cell_type": "code",
   "execution_count": 44,
   "metadata": {},
   "outputs": [],
   "source": [
    "# 6. Get the latitude-longitude pairs as tuples from each city DataFrame using the to_numpy function and list indexing.\n",
    "start = vacation_start.iloc[0,5:7].to_numpy()\n",
    "end = vacation_end.iloc[0,5:7].to_numpy()\n",
    "stop1 = vacation_stop1.iloc[0,5:7].to_numpy()\n",
    "stop2 = vacation_stop2.iloc[0,5:7].to_numpy()\n",
    "stop3 = vacation_stop3.iloc[0,5:7].to_numpy()"
   ]
  },
  {
   "cell_type": "code",
   "execution_count": 45,
   "metadata": {
    "scrolled": true
   },
   "outputs": [],
   "source": [
    "# 7. Create a direction layer map using the start and end latitude-longitude pairs,\n",
    "# and stop1, stop2, and stop3 as the waypoints. The travel_mode should be \"DRIVING\", \"BICYCLING\", or \"WALKING\".\n",
    "fig = gmaps.figure(center=(40, -75), zoom_level = 7)\n",
    "Bud = start\n",
    "Westport = stop1\n",
    "Havelock = stop2\n",
    "Crestview = stop3 \n",
    "roadtrip = gmaps.directions_layer(Bud, Bud, \n",
    "                                  waypoints=[Westport, Havelock, Crestview],\n",
    "                                  travel_mode=\"DRIVING\")\n"
   ]
  },
  {
   "cell_type": "code",
   "execution_count": 46,
   "metadata": {},
   "outputs": [
    {
     "output_type": "execute_result",
     "data": {
      "text/plain": [
       "   City_ID       City Country  Max Temp Current Description      Lat      Lng  \\\n",
       "0      527        Bud      US     77.18     overcast clouds  39.4470 -86.1758   \n",
       "1       15   Westport      US     75.74           clear sky  41.1415 -73.3579   \n",
       "2      199   Havelock      US     78.01           clear sky  34.8791 -76.9013   \n",
       "3      120  Crestview      US     81.12           clear sky  30.7621 -86.5705   \n",
       "\n",
       "                                          Hotel Name  \n",
       "0                                  Ted McQuinn Trust  \n",
       "1                                   The Westport Inn  \n",
       "2                                     Sherwood Motel  \n",
       "3  Holiday Inn Express & Suites Crestview South I...  "
      ],
      "text/html": "<div>\n<style scoped>\n    .dataframe tbody tr th:only-of-type {\n        vertical-align: middle;\n    }\n\n    .dataframe tbody tr th {\n        vertical-align: top;\n    }\n\n    .dataframe thead th {\n        text-align: right;\n    }\n</style>\n<table border=\"1\" class=\"dataframe\">\n  <thead>\n    <tr style=\"text-align: right;\">\n      <th></th>\n      <th>City_ID</th>\n      <th>City</th>\n      <th>Country</th>\n      <th>Max Temp</th>\n      <th>Current Description</th>\n      <th>Lat</th>\n      <th>Lng</th>\n      <th>Hotel Name</th>\n    </tr>\n  </thead>\n  <tbody>\n    <tr>\n      <th>0</th>\n      <td>527</td>\n      <td>Bud</td>\n      <td>US</td>\n      <td>77.18</td>\n      <td>overcast clouds</td>\n      <td>39.4470</td>\n      <td>-86.1758</td>\n      <td>Ted McQuinn Trust</td>\n    </tr>\n    <tr>\n      <th>1</th>\n      <td>15</td>\n      <td>Westport</td>\n      <td>US</td>\n      <td>75.74</td>\n      <td>clear sky</td>\n      <td>41.1415</td>\n      <td>-73.3579</td>\n      <td>The Westport Inn</td>\n    </tr>\n    <tr>\n      <th>2</th>\n      <td>199</td>\n      <td>Havelock</td>\n      <td>US</td>\n      <td>78.01</td>\n      <td>clear sky</td>\n      <td>34.8791</td>\n      <td>-76.9013</td>\n      <td>Sherwood Motel</td>\n    </tr>\n    <tr>\n      <th>3</th>\n      <td>120</td>\n      <td>Crestview</td>\n      <td>US</td>\n      <td>81.12</td>\n      <td>clear sky</td>\n      <td>30.7621</td>\n      <td>-86.5705</td>\n      <td>Holiday Inn Express &amp; Suites Crestview South I...</td>\n    </tr>\n  </tbody>\n</table>\n</div>"
     },
     "metadata": {},
     "execution_count": 46
    }
   ],
   "source": [
    "# 8. To create a marker layer map between the four cities.\n",
    "#  Combine the four city DataFrames into one DataFrame using the concat() function.\n",
    "itinerary_df = pd.concat([vacation_start, vacation_stop1, \n",
    "                          vacation_stop2, vacation_stop3]\n",
    "                         ,ignore_index=True)\n",
    "itinerary_df"
   ]
  },
  {
   "cell_type": "code",
   "execution_count": 47,
   "metadata": {},
   "outputs": [],
   "source": [
    "# 9 Using the template add city name, the country code, the weather description and maximum temperature for the city. \n",
    "info_box_template = \"\"\"\n",
    "<dl>\n",
    "<dt>Hotel Name</dt><dd>{Hotel Name}</dd>\n",
    "<dt>City</dt><dd>{City}</dd>\n",
    "<dt>Country</dt><dd>{Country}</dd>\n",
    "<dt>Weather Description</dt><dd>{Current Description}</dd>\n",
    "<dt>Max Temp</dt><dd>{Max Temp} °F</dd>\n",
    "</dl>\n",
    "\"\"\"\n",
    "\n",
    "# 10a Get the data from each row and add it to the formatting template and store the data in a list.\n",
    "hotel_info = [info_box_template.format(**row) for index, row in itinerary_df.iterrows()]\n",
    "\n",
    "# 10b. Get the latitude and longitude from each row and store in a new DataFrame.\n",
    "locations = itinerary_df[[\"Lat\", \"Lng\"]]"
   ]
  },
  {
   "cell_type": "code",
   "execution_count": 50,
   "metadata": {},
   "outputs": [
    {
     "output_type": "display_data",
     "data": {
      "text/plain": "Figure(layout=FigureLayout(height='420px'))",
      "application/vnd.jupyter.widget-view+json": {
       "version_major": 2,
       "version_minor": 0,
       "model_id": "5039686cd43b4f5f94f8dc0839d195fc"
      }
     },
     "metadata": {}
    }
   ],
   "source": [
    "# 11a. Add a marker layer for each city to the map.\n",
    "marker_layer = gmaps.marker_layer(locations, info_box_content=hotel_info)\n",
    "fig.add_layer(roadtrip)\n",
    "# 11b. Display the figure\n",
    "fig.add_layer(marker_layer)\n",
    "fig"
   ]
  },
  {
   "cell_type": "code",
   "execution_count": 58,
   "metadata": {},
   "outputs": [
    {
     "output_type": "display_data",
     "data": {
      "text/plain": "Figure(layout=FigureLayout(height='420px'))",
      "application/vnd.jupyter.widget-view+json": {
       "version_major": 2,
       "version_minor": 0,
       "model_id": "8a77322794754e15b3e80e00b7b4ee88"
      }
     },
     "metadata": {}
    }
   ],
   "source": [
    "#11.c marker layer map\n",
    "city_mark = itinerary_df[\"City\"]\n",
    "fig = gmaps.figure(center=(50.0, 20.0), zoom_level=1)\n",
    "marker_layer = gmaps.marker_layer(locations, info_box_content=hotel_info)\n",
    "\n",
    "fig.add_layer(marker_layer)\n",
    "fig"
   ]
  },
  {
   "cell_type": "code",
   "execution_count": null,
   "metadata": {},
   "outputs": [],
   "source": []
  }
 ],
 "metadata": {
  "kernelspec": {
   "name": "pythondata",
   "display_name": "Python 3.7.9 64-bit ('PythonData': conda)"
  },
  "language_info": {
   "codemirror_mode": {
    "name": "ipython",
    "version": 3
   },
   "file_extension": ".py",
   "mimetype": "text/x-python",
   "name": "python",
   "nbconvert_exporter": "python",
   "pygments_lexer": "ipython3",
   "version": "3.7.9"
  },
  "latex_envs": {
   "LaTeX_envs_menu_present": true,
   "autoclose": false,
   "autocomplete": true,
   "bibliofile": "biblio.bib",
   "cite_by": "apalike",
   "current_citInitial": 1,
   "eqLabelWithNumbers": true,
   "eqNumInitial": 1,
   "hotkeys": {
    "equation": "Ctrl-E",
    "itemize": "Ctrl-I"
   },
   "labels_anchors": false,
   "latex_user_defs": false,
   "report_style_numbering": false,
   "user_envs_cfg": false
  }
 },
 "nbformat": 4,
 "nbformat_minor": 2
}