{
 "cells": [
  {
   "cell_type": "markdown",
   "metadata": {},
   "source": [
    "## Deliverable 2. Create a Customer Travel Destinations Map."
   ]
  },
  {
   "cell_type": "code",
   "execution_count": 21,
   "metadata": {},
   "outputs": [],
   "source": [
    "# Dependencies and Setup\n",
    "import pandas as pd\n",
    "import requests\n",
    "import gmaps\n",
    "import numpy as np\n",
    "# Import API key\n",
    "from config import g_key\n",
    "\n",
    "# Configure gmaps API key\n",
    "gmaps.configure(api_key=g_key)"
   ]
  },
  {
   "cell_type": "code",
   "execution_count": 11,
   "metadata": {},
   "outputs": [
    {
     "output_type": "execute_result",
     "data": {
      "text/plain": [
       "   City_ID       City Country      Lat       Lng  Max Temp  Humidity  \\\n",
       "0        0  Upernavik      GL  72.7868  -56.1549     33.78        98   \n",
       "1        1    Rikitea      PF -23.1203 -134.9692     71.51        57   \n",
       "2        2     Albany      US  42.6001  -73.9662     63.18        50   \n",
       "3        3       Asfi      MA  32.2994   -9.2372     64.67        88   \n",
       "4        4    Ushuaia      AR -54.8000  -68.3000     29.86        93   \n",
       "\n",
       "   Cloudiness  Wind Speed Current Description  \n",
       "0          85        5.53     overcast clouds  \n",
       "1          65        4.56       broken clouds  \n",
       "2          42        7.00    scattered clouds  \n",
       "3          24        6.93          few clouds  \n",
       "4          75       23.02          light snow  "
      ],
      "text/html": "<div>\n<style scoped>\n    .dataframe tbody tr th:only-of-type {\n        vertical-align: middle;\n    }\n\n    .dataframe tbody tr th {\n        vertical-align: top;\n    }\n\n    .dataframe thead th {\n        text-align: right;\n    }\n</style>\n<table border=\"1\" class=\"dataframe\">\n  <thead>\n    <tr style=\"text-align: right;\">\n      <th></th>\n      <th>City_ID</th>\n      <th>City</th>\n      <th>Country</th>\n      <th>Lat</th>\n      <th>Lng</th>\n      <th>Max Temp</th>\n      <th>Humidity</th>\n      <th>Cloudiness</th>\n      <th>Wind Speed</th>\n      <th>Current Description</th>\n    </tr>\n  </thead>\n  <tbody>\n    <tr>\n      <th>0</th>\n      <td>0</td>\n      <td>Upernavik</td>\n      <td>GL</td>\n      <td>72.7868</td>\n      <td>-56.1549</td>\n      <td>33.78</td>\n      <td>98</td>\n      <td>85</td>\n      <td>5.53</td>\n      <td>overcast clouds</td>\n    </tr>\n    <tr>\n      <th>1</th>\n      <td>1</td>\n      <td>Rikitea</td>\n      <td>PF</td>\n      <td>-23.1203</td>\n      <td>-134.9692</td>\n      <td>71.51</td>\n      <td>57</td>\n      <td>65</td>\n      <td>4.56</td>\n      <td>broken clouds</td>\n    </tr>\n    <tr>\n      <th>2</th>\n      <td>2</td>\n      <td>Albany</td>\n      <td>US</td>\n      <td>42.6001</td>\n      <td>-73.9662</td>\n      <td>63.18</td>\n      <td>50</td>\n      <td>42</td>\n      <td>7.00</td>\n      <td>scattered clouds</td>\n    </tr>\n    <tr>\n      <th>3</th>\n      <td>3</td>\n      <td>Asfi</td>\n      <td>MA</td>\n      <td>32.2994</td>\n      <td>-9.2372</td>\n      <td>64.67</td>\n      <td>88</td>\n      <td>24</td>\n      <td>6.93</td>\n      <td>few clouds</td>\n    </tr>\n    <tr>\n      <th>4</th>\n      <td>4</td>\n      <td>Ushuaia</td>\n      <td>AR</td>\n      <td>-54.8000</td>\n      <td>-68.3000</td>\n      <td>29.86</td>\n      <td>93</td>\n      <td>75</td>\n      <td>23.02</td>\n      <td>light snow</td>\n    </tr>\n  </tbody>\n</table>\n</div>"
     },
     "metadata": {},
     "execution_count": 11
    }
   ],
   "source": [
    "# 1. Import the WeatherPy_database.csv file. \n",
    "city_data_df = pd.read_csv(\"../Weather_Database/Weatherpy_database.csv\")\n",
    "city_data_df.head()"
   ]
  },
  {
   "cell_type": "code",
   "execution_count": 12,
   "metadata": {},
   "outputs": [],
   "source": [
    "# 2. Prompt the user to enter minimum and maximum temperature criteria \n",
    "min_temp = float(input(\"What is the minimum temperature you would like for your trip? \"))\n",
    "max_temp = float(input(\"What is the maximum temperature you would like for your trip? \"))"
   ]
  },
  {
   "cell_type": "code",
   "execution_count": 13,
   "metadata": {},
   "outputs": [
    {
     "output_type": "execute_result",
     "data": {
      "text/plain": [
       "    City_ID        City Country      Lat       Lng  Max Temp  Humidity  \\\n",
       "10       10  Butaritari      KI   3.0707  172.7902     83.91        79   \n",
       "12       12        Aden      YE  12.7794   45.0367     86.41        70   \n",
       "14       14     Salinas      US  36.6777 -121.6555     81.57        68   \n",
       "15       15    Westport      US  41.1415  -73.3579     75.74        51   \n",
       "18       18         Leo      BF  11.1000   -2.1000     87.64        44   \n",
       "19       19       Avera      US  33.1940  -82.5271     87.53        47   \n",
       "20       20       Korla      CN  41.7597   86.1469     78.53        14   \n",
       "25       25   Sinnamary      GF   5.3833  -52.9500     76.01        93   \n",
       "26       26    Meulaboh      ID   4.1363   96.1285     78.69        83   \n",
       "27       27       Kapaa      US  22.0752 -159.3190     82.40        65   \n",
       "\n",
       "    Cloudiness  Wind Speed Current Description  \n",
       "10          96       18.28          light rain  \n",
       "12          99        7.92     overcast clouds  \n",
       "14          90       14.97     overcast clouds  \n",
       "15           1        1.99           clear sky  \n",
       "18          98        8.90     overcast clouds  \n",
       "19           1        7.96           clear sky  \n",
       "20           5        0.49           clear sky  \n",
       "25         100        8.05          light rain  \n",
       "26          90        2.95     overcast clouds  \n",
       "27          20       10.36          few clouds  "
      ],
      "text/html": "<div>\n<style scoped>\n    .dataframe tbody tr th:only-of-type {\n        vertical-align: middle;\n    }\n\n    .dataframe tbody tr th {\n        vertical-align: top;\n    }\n\n    .dataframe thead th {\n        text-align: right;\n    }\n</style>\n<table border=\"1\" class=\"dataframe\">\n  <thead>\n    <tr style=\"text-align: right;\">\n      <th></th>\n      <th>City_ID</th>\n      <th>City</th>\n      <th>Country</th>\n      <th>Lat</th>\n      <th>Lng</th>\n      <th>Max Temp</th>\n      <th>Humidity</th>\n      <th>Cloudiness</th>\n      <th>Wind Speed</th>\n      <th>Current Description</th>\n    </tr>\n  </thead>\n  <tbody>\n    <tr>\n      <th>10</th>\n      <td>10</td>\n      <td>Butaritari</td>\n      <td>KI</td>\n      <td>3.0707</td>\n      <td>172.7902</td>\n      <td>83.91</td>\n      <td>79</td>\n      <td>96</td>\n      <td>18.28</td>\n      <td>light rain</td>\n    </tr>\n    <tr>\n      <th>12</th>\n      <td>12</td>\n      <td>Aden</td>\n      <td>YE</td>\n      <td>12.7794</td>\n      <td>45.0367</td>\n      <td>86.41</td>\n      <td>70</td>\n      <td>99</td>\n      <td>7.92</td>\n      <td>overcast clouds</td>\n    </tr>\n    <tr>\n      <th>14</th>\n      <td>14</td>\n      <td>Salinas</td>\n      <td>US</td>\n      <td>36.6777</td>\n      <td>-121.6555</td>\n      <td>81.57</td>\n      <td>68</td>\n      <td>90</td>\n      <td>14.97</td>\n      <td>overcast clouds</td>\n    </tr>\n    <tr>\n      <th>15</th>\n      <td>15</td>\n      <td>Westport</td>\n      <td>US</td>\n      <td>41.1415</td>\n      <td>-73.3579</td>\n      <td>75.74</td>\n      <td>51</td>\n      <td>1</td>\n      <td>1.99</td>\n      <td>clear sky</td>\n    </tr>\n    <tr>\n      <th>18</th>\n      <td>18</td>\n      <td>Leo</td>\n      <td>BF</td>\n      <td>11.1000</td>\n      <td>-2.1000</td>\n      <td>87.64</td>\n      <td>44</td>\n      <td>98</td>\n      <td>8.90</td>\n      <td>overcast clouds</td>\n    </tr>\n    <tr>\n      <th>19</th>\n      <td>19</td>\n      <td>Avera</td>\n      <td>US</td>\n      <td>33.1940</td>\n      <td>-82.5271</td>\n      <td>87.53</td>\n      <td>47</td>\n      <td>1</td>\n      <td>7.96</td>\n      <td>clear sky</td>\n    </tr>\n    <tr>\n      <th>20</th>\n      <td>20</td>\n      <td>Korla</td>\n      <td>CN</td>\n      <td>41.7597</td>\n      <td>86.1469</td>\n      <td>78.53</td>\n      <td>14</td>\n      <td>5</td>\n      <td>0.49</td>\n      <td>clear sky</td>\n    </tr>\n    <tr>\n      <th>25</th>\n      <td>25</td>\n      <td>Sinnamary</td>\n      <td>GF</td>\n      <td>5.3833</td>\n      <td>-52.9500</td>\n      <td>76.01</td>\n      <td>93</td>\n      <td>100</td>\n      <td>8.05</td>\n      <td>light rain</td>\n    </tr>\n    <tr>\n      <th>26</th>\n      <td>26</td>\n      <td>Meulaboh</td>\n      <td>ID</td>\n      <td>4.1363</td>\n      <td>96.1285</td>\n      <td>78.69</td>\n      <td>83</td>\n      <td>90</td>\n      <td>2.95</td>\n      <td>overcast clouds</td>\n    </tr>\n    <tr>\n      <th>27</th>\n      <td>27</td>\n      <td>Kapaa</td>\n      <td>US</td>\n      <td>22.0752</td>\n      <td>-159.3190</td>\n      <td>82.40</td>\n      <td>65</td>\n      <td>20</td>\n      <td>10.36</td>\n      <td>few clouds</td>\n    </tr>\n  </tbody>\n</table>\n</div>"
     },
     "metadata": {},
     "execution_count": 13
    }
   ],
   "source": [
    "# 3. Filter the city_data_df DataFrame using the input statements to create a new DataFrame using the loc method.\n",
    "preferred_cities_df = city_data_df.loc[(city_data_df[\"Max Temp\"] >= min_temp) &\n",
    "                                       (city_data_df[\"Max Temp\"] <= max_temp)]\n",
    "preferred_cities_df.head(10)"
   ]
  },
  {
   "cell_type": "code",
   "execution_count": 14,
   "metadata": {},
   "outputs": [
    {
     "output_type": "execute_result",
     "data": {
      "text/plain": [
       "City_ID                0\n",
       "City                   0\n",
       "Country                0\n",
       "Lat                    0\n",
       "Lng                    0\n",
       "Max Temp               0\n",
       "Humidity               0\n",
       "Cloudiness             0\n",
       "Wind Speed             0\n",
       "Current Description    0\n",
       "dtype: int64"
      ]
     },
     "metadata": {},
     "execution_count": 14
    }
   ],
   "source": [
    "# 4a. Determine if there are any empty rows.\n",
    "preferred_cities_df.isnull().sum()"
   ]
  },
  {
   "cell_type": "code",
   "execution_count": 15,
   "metadata": {},
   "outputs": [
    {
     "output_type": "execute_result",
     "data": {
      "text/plain": [
       "    City_ID        City Country      Lat       Lng  Max Temp  Humidity  \\\n",
       "10       10  Butaritari      KI   3.0707  172.7902     83.91        79   \n",
       "12       12        Aden      YE  12.7794   45.0367     86.41        70   \n",
       "14       14     Salinas      US  36.6777 -121.6555     81.57        68   \n",
       "15       15    Westport      US  41.1415  -73.3579     75.74        51   \n",
       "18       18         Leo      BF  11.1000   -2.1000     87.64        44   \n",
       "19       19       Avera      US  33.1940  -82.5271     87.53        47   \n",
       "20       20       Korla      CN  41.7597   86.1469     78.53        14   \n",
       "25       25   Sinnamary      GF   5.3833  -52.9500     76.01        93   \n",
       "26       26    Meulaboh      ID   4.1363   96.1285     78.69        83   \n",
       "27       27       Kapaa      US  22.0752 -159.3190     82.40        65   \n",
       "\n",
       "    Cloudiness  Wind Speed Current Description  \n",
       "10          96       18.28          light rain  \n",
       "12          99        7.92     overcast clouds  \n",
       "14          90       14.97     overcast clouds  \n",
       "15           1        1.99           clear sky  \n",
       "18          98        8.90     overcast clouds  \n",
       "19           1        7.96           clear sky  \n",
       "20           5        0.49           clear sky  \n",
       "25         100        8.05          light rain  \n",
       "26          90        2.95     overcast clouds  \n",
       "27          20       10.36          few clouds  "
      ],
      "text/html": "<div>\n<style scoped>\n    .dataframe tbody tr th:only-of-type {\n        vertical-align: middle;\n    }\n\n    .dataframe tbody tr th {\n        vertical-align: top;\n    }\n\n    .dataframe thead th {\n        text-align: right;\n    }\n</style>\n<table border=\"1\" class=\"dataframe\">\n  <thead>\n    <tr style=\"text-align: right;\">\n      <th></th>\n      <th>City_ID</th>\n      <th>City</th>\n      <th>Country</th>\n      <th>Lat</th>\n      <th>Lng</th>\n      <th>Max Temp</th>\n      <th>Humidity</th>\n      <th>Cloudiness</th>\n      <th>Wind Speed</th>\n      <th>Current Description</th>\n    </tr>\n  </thead>\n  <tbody>\n    <tr>\n      <th>10</th>\n      <td>10</td>\n      <td>Butaritari</td>\n      <td>KI</td>\n      <td>3.0707</td>\n      <td>172.7902</td>\n      <td>83.91</td>\n      <td>79</td>\n      <td>96</td>\n      <td>18.28</td>\n      <td>light rain</td>\n    </tr>\n    <tr>\n      <th>12</th>\n      <td>12</td>\n      <td>Aden</td>\n      <td>YE</td>\n      <td>12.7794</td>\n      <td>45.0367</td>\n      <td>86.41</td>\n      <td>70</td>\n      <td>99</td>\n      <td>7.92</td>\n      <td>overcast clouds</td>\n    </tr>\n    <tr>\n      <th>14</th>\n      <td>14</td>\n      <td>Salinas</td>\n      <td>US</td>\n      <td>36.6777</td>\n      <td>-121.6555</td>\n      <td>81.57</td>\n      <td>68</td>\n      <td>90</td>\n      <td>14.97</td>\n      <td>overcast clouds</td>\n    </tr>\n    <tr>\n      <th>15</th>\n      <td>15</td>\n      <td>Westport</td>\n      <td>US</td>\n      <td>41.1415</td>\n      <td>-73.3579</td>\n      <td>75.74</td>\n      <td>51</td>\n      <td>1</td>\n      <td>1.99</td>\n      <td>clear sky</td>\n    </tr>\n    <tr>\n      <th>18</th>\n      <td>18</td>\n      <td>Leo</td>\n      <td>BF</td>\n      <td>11.1000</td>\n      <td>-2.1000</td>\n      <td>87.64</td>\n      <td>44</td>\n      <td>98</td>\n      <td>8.90</td>\n      <td>overcast clouds</td>\n    </tr>\n    <tr>\n      <th>19</th>\n      <td>19</td>\n      <td>Avera</td>\n      <td>US</td>\n      <td>33.1940</td>\n      <td>-82.5271</td>\n      <td>87.53</td>\n      <td>47</td>\n      <td>1</td>\n      <td>7.96</td>\n      <td>clear sky</td>\n    </tr>\n    <tr>\n      <th>20</th>\n      <td>20</td>\n      <td>Korla</td>\n      <td>CN</td>\n      <td>41.7597</td>\n      <td>86.1469</td>\n      <td>78.53</td>\n      <td>14</td>\n      <td>5</td>\n      <td>0.49</td>\n      <td>clear sky</td>\n    </tr>\n    <tr>\n      <th>25</th>\n      <td>25</td>\n      <td>Sinnamary</td>\n      <td>GF</td>\n      <td>5.3833</td>\n      <td>-52.9500</td>\n      <td>76.01</td>\n      <td>93</td>\n      <td>100</td>\n      <td>8.05</td>\n      <td>light rain</td>\n    </tr>\n    <tr>\n      <th>26</th>\n      <td>26</td>\n      <td>Meulaboh</td>\n      <td>ID</td>\n      <td>4.1363</td>\n      <td>96.1285</td>\n      <td>78.69</td>\n      <td>83</td>\n      <td>90</td>\n      <td>2.95</td>\n      <td>overcast clouds</td>\n    </tr>\n    <tr>\n      <th>27</th>\n      <td>27</td>\n      <td>Kapaa</td>\n      <td>US</td>\n      <td>22.0752</td>\n      <td>-159.3190</td>\n      <td>82.40</td>\n      <td>65</td>\n      <td>20</td>\n      <td>10.36</td>\n      <td>few clouds</td>\n    </tr>\n  </tbody>\n</table>\n</div>"
     },
     "metadata": {},
     "execution_count": 15
    }
   ],
   "source": [
    "# 4b. Drop any empty rows and create a new DataFrame that doesn’t have empty rows.\n",
    "clean_df = preferred_cities_df.dropna()\n",
    "clean_df.head(10)"
   ]
  },
  {
   "cell_type": "code",
   "execution_count": 16,
   "metadata": {},
   "outputs": [
    {
     "output_type": "execute_result",
     "data": {
      "text/plain": [
       "          City Country  Max Temp Current Description      Lat       Lng  \\\n",
       "10  Butaritari      KI     83.91          light rain   3.0707  172.7902   \n",
       "12        Aden      YE     86.41     overcast clouds  12.7794   45.0367   \n",
       "14     Salinas      US     81.57     overcast clouds  36.6777 -121.6555   \n",
       "15    Westport      US     75.74           clear sky  41.1415  -73.3579   \n",
       "18         Leo      BF     87.64     overcast clouds  11.1000   -2.1000   \n",
       "19       Avera      US     87.53           clear sky  33.1940  -82.5271   \n",
       "20       Korla      CN     78.53           clear sky  41.7597   86.1469   \n",
       "25   Sinnamary      GF     76.01          light rain   5.3833  -52.9500   \n",
       "26    Meulaboh      ID     78.69     overcast clouds   4.1363   96.1285   \n",
       "27       Kapaa      US     82.40          few clouds  22.0752 -159.3190   \n",
       "\n",
       "   Hotel Name  \n",
       "10             \n",
       "12             \n",
       "14             \n",
       "15             \n",
       "18             \n",
       "19             \n",
       "20             \n",
       "25             \n",
       "26             \n",
       "27             "
      ],
      "text/html": "<div>\n<style scoped>\n    .dataframe tbody tr th:only-of-type {\n        vertical-align: middle;\n    }\n\n    .dataframe tbody tr th {\n        vertical-align: top;\n    }\n\n    .dataframe thead th {\n        text-align: right;\n    }\n</style>\n<table border=\"1\" class=\"dataframe\">\n  <thead>\n    <tr style=\"text-align: right;\">\n      <th></th>\n      <th>City</th>\n      <th>Country</th>\n      <th>Max Temp</th>\n      <th>Current Description</th>\n      <th>Lat</th>\n      <th>Lng</th>\n      <th>Hotel Name</th>\n    </tr>\n  </thead>\n  <tbody>\n    <tr>\n      <th>10</th>\n      <td>Butaritari</td>\n      <td>KI</td>\n      <td>83.91</td>\n      <td>light rain</td>\n      <td>3.0707</td>\n      <td>172.7902</td>\n      <td></td>\n    </tr>\n    <tr>\n      <th>12</th>\n      <td>Aden</td>\n      <td>YE</td>\n      <td>86.41</td>\n      <td>overcast clouds</td>\n      <td>12.7794</td>\n      <td>45.0367</td>\n      <td></td>\n    </tr>\n    <tr>\n      <th>14</th>\n      <td>Salinas</td>\n      <td>US</td>\n      <td>81.57</td>\n      <td>overcast clouds</td>\n      <td>36.6777</td>\n      <td>-121.6555</td>\n      <td></td>\n    </tr>\n    <tr>\n      <th>15</th>\n      <td>Westport</td>\n      <td>US</td>\n      <td>75.74</td>\n      <td>clear sky</td>\n      <td>41.1415</td>\n      <td>-73.3579</td>\n      <td></td>\n    </tr>\n    <tr>\n      <th>18</th>\n      <td>Leo</td>\n      <td>BF</td>\n      <td>87.64</td>\n      <td>overcast clouds</td>\n      <td>11.1000</td>\n      <td>-2.1000</td>\n      <td></td>\n    </tr>\n    <tr>\n      <th>19</th>\n      <td>Avera</td>\n      <td>US</td>\n      <td>87.53</td>\n      <td>clear sky</td>\n      <td>33.1940</td>\n      <td>-82.5271</td>\n      <td></td>\n    </tr>\n    <tr>\n      <th>20</th>\n      <td>Korla</td>\n      <td>CN</td>\n      <td>78.53</td>\n      <td>clear sky</td>\n      <td>41.7597</td>\n      <td>86.1469</td>\n      <td></td>\n    </tr>\n    <tr>\n      <th>25</th>\n      <td>Sinnamary</td>\n      <td>GF</td>\n      <td>76.01</td>\n      <td>light rain</td>\n      <td>5.3833</td>\n      <td>-52.9500</td>\n      <td></td>\n    </tr>\n    <tr>\n      <th>26</th>\n      <td>Meulaboh</td>\n      <td>ID</td>\n      <td>78.69</td>\n      <td>overcast clouds</td>\n      <td>4.1363</td>\n      <td>96.1285</td>\n      <td></td>\n    </tr>\n    <tr>\n      <th>27</th>\n      <td>Kapaa</td>\n      <td>US</td>\n      <td>82.40</td>\n      <td>few clouds</td>\n      <td>22.0752</td>\n      <td>-159.3190</td>\n      <td></td>\n    </tr>\n  </tbody>\n</table>\n</div>"
     },
     "metadata": {},
     "execution_count": 16
    }
   ],
   "source": [
    "# 5a. Create DataFrame called hotel_df to store hotel names along with city, country, max temp, and coordinates.\n",
    "hotel_df = clean_df[[\"City\", \"Country\", \"Max Temp\", \"Current Description\", \"Lat\", \"Lng\"]].copy()\n",
    "\n",
    "# 5b. Create a new column \"Hotel Name\"\n",
    "hotel_df[\"Hotel Name\"] = \"\"\n",
    "hotel_df.head(10)"
   ]
  },
  {
   "cell_type": "code",
   "execution_count": 19,
   "metadata": {},
   "outputs": [
    {
     "output_type": "stream",
     "name": "stdout",
     "text": [
      "Cannot find hotel...skipping.\n",
      "Cannot find hotel...skipping.\n",
      "Cannot find hotel...skipping.\n",
      "Cannot find hotel...skipping.\n",
      "Cannot find hotel...skipping.\n",
      "Cannot find hotel...skipping.\n",
      "Cannot find hotel...skipping.\n",
      "Cannot find hotel...skipping.\n",
      "Cannot find hotel...skipping.\n",
      "Cannot find hotel...skipping.\n",
      "Cannot find hotel...skipping.\n",
      "Cannot find hotel...skipping.\n",
      "Cannot find hotel...skipping.\n",
      "Cannot find hotel...skipping.\n",
      "Cannot find hotel...skipping.\n"
     ]
    }
   ],
   "source": [
    "# 6a. Set parameters to search for hotels with 5000 meters.\n",
    "params = {\n",
    "    \"radius\": 5000,\n",
    "    \"type\": \"lodging\",\n",
    "    \"key\": g_key\n",
    "}\n",
    "\n",
    "# 6b. Iterate through the hotel DataFrame.\n",
    "for index, row in hotel_df.iterrows():\n",
    "    \n",
    "    # 6c. Get latitude and longitude from DataFrame\n",
    "    lat = row[\"Lat\"]\n",
    "    lng = row[\"Lng\"]\n",
    "    params[\"location\"] = f\"{lat},{lng}\"\n",
    "    \n",
    "    # 6d. Set up the base URL for the Google Directions API to get JSON data.\n",
    "    base_url = \"https://maps.googleapis.com/maps/api/place/nearbysearch/json\"\n",
    "\n",
    "    # 6e. Make request and retrieve the JSON data from the search. \n",
    "    hotels = requests.get(base_url, params=params).json()\n",
    "    \n",
    "    # 6f. Get the first hotel from the results and store the name, if a hotel isn't found skip the city.\n",
    "    try:\n",
    "        hotel_df.loc[index, \"Hotel Name\"] = hotels[\"results\"][0][\"name\"]\n",
    "        \n",
    "    except (IndexError):\n",
    "        print(\"Cannot find hotel...skipping.\")\n",
    "        "
   ]
  },
  {
   "cell_type": "code",
   "execution_count": 23,
   "metadata": {},
   "outputs": [
    {
     "output_type": "execute_result",
     "data": {
      "text/plain": [
       "          City Country  Max Temp Current Description      Lat       Lng  \\\n",
       "10  Butaritari      KI     83.91          light rain   3.0707  172.7902   \n",
       "12        Aden      YE     86.41     overcast clouds  12.7794   45.0367   \n",
       "14     Salinas      US     81.57     overcast clouds  36.6777 -121.6555   \n",
       "15    Westport      US     75.74           clear sky  41.1415  -73.3579   \n",
       "18         Leo      BF     87.64     overcast clouds  11.1000   -2.1000   \n",
       "20       Korla      CN     78.53           clear sky  41.7597   86.1469   \n",
       "25   Sinnamary      GF     76.01          light rain   5.3833  -52.9500   \n",
       "26    Meulaboh      ID     78.69     overcast clouds   4.1363   96.1285   \n",
       "27       Kapaa      US     82.40          few clouds  22.0752 -159.3190   \n",
       "29      Turbat      PK     88.84           clear sky  26.0023   63.0440   \n",
       "\n",
       "                             Hotel Name  \n",
       "10                   Isles Sunset Lodge  \n",
       "12                   Sama Emirate Hotel  \n",
       "14       Laurel Inn & Conference Center  \n",
       "15                     The Westport Inn  \n",
       "18                       Hotel Sissilis  \n",
       "20                      Gulisitan Hotel  \n",
       "25       ALETHEIA Appartement Sinnamary  \n",
       "26                            Kost Pria  \n",
       "27  Sheraton Kauai Coconut Beach Resort  \n",
       "29                    Mubashar Quarters  "
      ],
      "text/html": "<div>\n<style scoped>\n    .dataframe tbody tr th:only-of-type {\n        vertical-align: middle;\n    }\n\n    .dataframe tbody tr th {\n        vertical-align: top;\n    }\n\n    .dataframe thead th {\n        text-align: right;\n    }\n</style>\n<table border=\"1\" class=\"dataframe\">\n  <thead>\n    <tr style=\"text-align: right;\">\n      <th></th>\n      <th>City</th>\n      <th>Country</th>\n      <th>Max Temp</th>\n      <th>Current Description</th>\n      <th>Lat</th>\n      <th>Lng</th>\n      <th>Hotel Name</th>\n    </tr>\n  </thead>\n  <tbody>\n    <tr>\n      <th>10</th>\n      <td>Butaritari</td>\n      <td>KI</td>\n      <td>83.91</td>\n      <td>light rain</td>\n      <td>3.0707</td>\n      <td>172.7902</td>\n      <td>Isles Sunset Lodge</td>\n    </tr>\n    <tr>\n      <th>12</th>\n      <td>Aden</td>\n      <td>YE</td>\n      <td>86.41</td>\n      <td>overcast clouds</td>\n      <td>12.7794</td>\n      <td>45.0367</td>\n      <td>Sama Emirate Hotel</td>\n    </tr>\n    <tr>\n      <th>14</th>\n      <td>Salinas</td>\n      <td>US</td>\n      <td>81.57</td>\n      <td>overcast clouds</td>\n      <td>36.6777</td>\n      <td>-121.6555</td>\n      <td>Laurel Inn &amp; Conference Center</td>\n    </tr>\n    <tr>\n      <th>15</th>\n      <td>Westport</td>\n      <td>US</td>\n      <td>75.74</td>\n      <td>clear sky</td>\n      <td>41.1415</td>\n      <td>-73.3579</td>\n      <td>The Westport Inn</td>\n    </tr>\n    <tr>\n      <th>18</th>\n      <td>Leo</td>\n      <td>BF</td>\n      <td>87.64</td>\n      <td>overcast clouds</td>\n      <td>11.1000</td>\n      <td>-2.1000</td>\n      <td>Hotel Sissilis</td>\n    </tr>\n    <tr>\n      <th>20</th>\n      <td>Korla</td>\n      <td>CN</td>\n      <td>78.53</td>\n      <td>clear sky</td>\n      <td>41.7597</td>\n      <td>86.1469</td>\n      <td>Gulisitan Hotel</td>\n    </tr>\n    <tr>\n      <th>25</th>\n      <td>Sinnamary</td>\n      <td>GF</td>\n      <td>76.01</td>\n      <td>light rain</td>\n      <td>5.3833</td>\n      <td>-52.9500</td>\n      <td>ALETHEIA Appartement Sinnamary</td>\n    </tr>\n    <tr>\n      <th>26</th>\n      <td>Meulaboh</td>\n      <td>ID</td>\n      <td>78.69</td>\n      <td>overcast clouds</td>\n      <td>4.1363</td>\n      <td>96.1285</td>\n      <td>Kost Pria</td>\n    </tr>\n    <tr>\n      <th>27</th>\n      <td>Kapaa</td>\n      <td>US</td>\n      <td>82.40</td>\n      <td>few clouds</td>\n      <td>22.0752</td>\n      <td>-159.3190</td>\n      <td>Sheraton Kauai Coconut Beach Resort</td>\n    </tr>\n    <tr>\n      <th>29</th>\n      <td>Turbat</td>\n      <td>PK</td>\n      <td>88.84</td>\n      <td>clear sky</td>\n      <td>26.0023</td>\n      <td>63.0440</td>\n      <td>Mubashar Quarters</td>\n    </tr>\n  </tbody>\n</table>\n</div>"
     },
     "metadata": {},
     "execution_count": 23
    }
   ],
   "source": [
    "# 7. Drop the rows where there is no Hotel Name.\n",
    "clean = hotel_df.replace(r'^\\s*$', np.nan, regex=True)\n",
    "clean_hotel_df = clean.dropna()\n",
    "clean_hotel_df.head(10)"
   ]
  },
  {
   "cell_type": "code",
   "execution_count": 24,
   "metadata": {},
   "outputs": [],
   "source": [
    "# 8a. Create the output File (CSV)\n",
    "output_data_file = \"weatherPy_vacation.csv\"\n",
    "# 8b. Export the City_Data into a csv\n",
    "clean_hotel_df.to_csv(output_data_file, index_label=\"City_ID\")"
   ]
  },
  {
   "cell_type": "code",
   "execution_count": 25,
   "metadata": {},
   "outputs": [],
   "source": [
    "# 9. Using the template add city name, the country code, the weather description and maximum temperature for the city.\n",
    "info_box_template = \"\"\"\n",
    "<dl>\n",
    "<dt>Hotel Name</dt><dd>{Hotel Name}</dd>\n",
    "<dt>City</dt><dd>{City}</dd>\n",
    "<dt>Country</dt><dd>{Country}</dd>\n",
    "<dt>Weather Description</dt><dd>{Current Description}</dd>\n",
    "<dt>Max Temp</dt><dd>{Max Temp} °F</dd>\n",
    "</dl>\n",
    "\"\"\"\n",
    "\n",
    "# 10a. Get the data from each row and add it to the formatting template and store the data in a list.\n",
    "hotel_info = [info_box_template.format(**row) for index, row in clean_hotel_df.iterrows()]\n",
    "\n",
    "# 10b. Get the latitude and longitude from each row and store in a new DataFrame.\n",
    "locations = clean_hotel_df[[\"Lat\", \"Lng\"]]"
   ]
  },
  {
   "cell_type": "code",
   "execution_count": 29,
   "metadata": {},
   "outputs": [
    {
     "output_type": "display_data",
     "data": {
      "text/plain": "Figure(layout=FigureLayout(height='420px'))",
      "application/vnd.jupyter.widget-view+json": {
       "version_major": 2,
       "version_minor": 0,
       "model_id": "956ca9d852004b1aa4501bfb26033a5d"
      }
     },
     "metadata": {}
    }
   ],
   "source": [
    "# 11a. Add a marker layer for each city to the map. \n",
    "marker_layer = gmaps.marker_layer(locations, info_box_content=hotel_info)\n",
    "# 11b. Display the figure\n",
    "fig = gmaps.figure(center=(30.0, 30.0), zoom_level=1.5)\n",
    "fig.add_layer(marker_layer)\n",
    "fig"
   ]
  },
  {
   "cell_type": "code",
   "execution_count": null,
   "metadata": {},
   "outputs": [],
   "source": []
  },
  {
   "cell_type": "code",
   "execution_count": null,
   "metadata": {},
   "outputs": [],
   "source": []
  }
 ],
 "metadata": {
  "kernelspec": {
   "name": "pythondata",
   "display_name": "Python 3.7.9 64-bit ('PythonData': conda)"
  },
  "language_info": {
   "codemirror_mode": {
    "name": "ipython",
    "version": 3
   },
   "file_extension": ".py",
   "mimetype": "text/x-python",
   "name": "python",
   "nbconvert_exporter": "python",
   "pygments_lexer": "ipython3",
   "version": "3.7.9"
  },
  "latex_envs": {
   "LaTeX_envs_menu_present": true,
   "autoclose": false,
   "autocomplete": true,
   "bibliofile": "biblio.bib",
   "cite_by": "apalike",
   "current_citInitial": 1,
   "eqLabelWithNumbers": true,
   "eqNumInitial": 1,
   "hotkeys": {
    "equation": "Ctrl-E",
    "itemize": "Ctrl-I"
   },
   "labels_anchors": false,
   "latex_user_defs": false,
   "report_style_numbering": false,
   "user_envs_cfg": false
  }
 },
 "nbformat": 4,
 "nbformat_minor": 2
}