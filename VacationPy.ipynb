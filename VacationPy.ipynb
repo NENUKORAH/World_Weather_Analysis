{
 "cells": [
  {
   "cell_type": "code",
   "execution_count": 38,
   "metadata": {},
   "outputs": [],
   "source": [
    "# Import the dependencies.\n",
    "import pandas as pd\n",
    "import gmaps\n",
    "import requests\n",
    "# Import the API key.\n",
    "from config import g_key"
   ]
  },
  {
   "cell_type": "code",
   "execution_count": 4,
   "metadata": {},
   "outputs": [
    {
     "output_type": "execute_result",
     "data": {
      "text/plain": [
       "   City_ID            City Country                 Date      Lat       Lng  \\\n",
       "0        0           Vaini      TO  2021-05-24 19:53:36 -21.2000 -175.2000   \n",
       "1        1  Ribeira Grande      PT  2021-05-24 19:52:50  38.5167  -28.7000   \n",
       "2        2          Loukhi      RU  2021-05-24 19:56:52  66.0764   33.0381   \n",
       "3        3  Saint-Philippe      RE  2021-05-24 19:53:07 -21.3585   55.7679   \n",
       "4        4         Kumluca      TR  2021-05-24 19:56:52  36.3703   30.2869   \n",
       "\n",
       "   Max Temp  Humidity  Cloudiness  Wind Speed  \n",
       "0     71.76        88          75        2.30  \n",
       "1     64.80        68          20       14.97  \n",
       "2     34.81        91         100        4.70  \n",
       "3     71.19        79          94       15.35  \n",
       "4     77.95        35           1        7.70  "
      ],
      "text/html": "<div>\n<style scoped>\n    .dataframe tbody tr th:only-of-type {\n        vertical-align: middle;\n    }\n\n    .dataframe tbody tr th {\n        vertical-align: top;\n    }\n\n    .dataframe thead th {\n        text-align: right;\n    }\n</style>\n<table border=\"1\" class=\"dataframe\">\n  <thead>\n    <tr style=\"text-align: right;\">\n      <th></th>\n      <th>City_ID</th>\n      <th>City</th>\n      <th>Country</th>\n      <th>Date</th>\n      <th>Lat</th>\n      <th>Lng</th>\n      <th>Max Temp</th>\n      <th>Humidity</th>\n      <th>Cloudiness</th>\n      <th>Wind Speed</th>\n    </tr>\n  </thead>\n  <tbody>\n    <tr>\n      <th>0</th>\n      <td>0</td>\n      <td>Vaini</td>\n      <td>TO</td>\n      <td>2021-05-24 19:53:36</td>\n      <td>-21.2000</td>\n      <td>-175.2000</td>\n      <td>71.76</td>\n      <td>88</td>\n      <td>75</td>\n      <td>2.30</td>\n    </tr>\n    <tr>\n      <th>1</th>\n      <td>1</td>\n      <td>Ribeira Grande</td>\n      <td>PT</td>\n      <td>2021-05-24 19:52:50</td>\n      <td>38.5167</td>\n      <td>-28.7000</td>\n      <td>64.80</td>\n      <td>68</td>\n      <td>20</td>\n      <td>14.97</td>\n    </tr>\n    <tr>\n      <th>2</th>\n      <td>2</td>\n      <td>Loukhi</td>\n      <td>RU</td>\n      <td>2021-05-24 19:56:52</td>\n      <td>66.0764</td>\n      <td>33.0381</td>\n      <td>34.81</td>\n      <td>91</td>\n      <td>100</td>\n      <td>4.70</td>\n    </tr>\n    <tr>\n      <th>3</th>\n      <td>3</td>\n      <td>Saint-Philippe</td>\n      <td>RE</td>\n      <td>2021-05-24 19:53:07</td>\n      <td>-21.3585</td>\n      <td>55.7679</td>\n      <td>71.19</td>\n      <td>79</td>\n      <td>94</td>\n      <td>15.35</td>\n    </tr>\n    <tr>\n      <th>4</th>\n      <td>4</td>\n      <td>Kumluca</td>\n      <td>TR</td>\n      <td>2021-05-24 19:56:52</td>\n      <td>36.3703</td>\n      <td>30.2869</td>\n      <td>77.95</td>\n      <td>35</td>\n      <td>1</td>\n      <td>7.70</td>\n    </tr>\n  </tbody>\n</table>\n</div>"
     },
     "metadata": {},
     "execution_count": 4
    }
   ],
   "source": [
    "# Store the CSV you saved created in part one into a DataFrame.\n",
    "city_data_df = pd.read_csv(\"weather_data/cities.csv\")\n",
    "city_data_df.head()"
   ]
  },
  {
   "cell_type": "code",
   "execution_count": 5,
   "metadata": {},
   "outputs": [
    {
     "output_type": "execute_result",
     "data": {
      "text/plain": [
       "City_ID         int64\n",
       "City           object\n",
       "Country        object\n",
       "Date           object\n",
       "Lat           float64\n",
       "Lng           float64\n",
       "Max Temp      float64\n",
       "Humidity        int64\n",
       "Cloudiness      int64\n",
       "Wind Speed    float64\n",
       "dtype: object"
      ]
     },
     "metadata": {},
     "execution_count": 5
    }
   ],
   "source": [
    "city_data_df.dtypes"
   ]
  },
  {
   "cell_type": "code",
   "execution_count": 6,
   "metadata": {},
   "outputs": [],
   "source": [
    "# Configure gmaps to use your Google API key.\n",
    "gmaps.configure(api_key=g_key)"
   ]
  },
  {
   "cell_type": "code",
   "execution_count": 7,
   "metadata": {},
   "outputs": [
    {
     "output_type": "error",
     "ename": "SyntaxError",
     "evalue": "invalid syntax (<ipython-input-7-44604a1d0e35>, line 4)",
     "traceback": [
      "\u001b[1;36m  File \u001b[1;32m\"<ipython-input-7-44604a1d0e35>\"\u001b[1;36m, line \u001b[1;32m4\u001b[0m\n\u001b[1;33m    temperatures = # an array of length equal to the locations array length\u001b[0m\n\u001b[1;37m                                                                           ^\u001b[0m\n\u001b[1;31mSyntaxError\u001b[0m\u001b[1;31m:\u001b[0m invalid syntax\n"
     ]
    }
   ],
   "source": [
    "# 1. Assign the locations to an array of latitude and longitude pairs.\n",
    "locations = [latitude, longitude]\n",
    "# 2. Assign the weights variable to some values.\n",
    "temperatures = # an array of length equal to the locations array length\n",
    "# 3. Assign the figure variable to the gmaps.figure() attribute.\n",
    "fig = gmaps.figure()\n",
    "# 4. Assign the heatmap_layer variable to the heatmap_layer attribute and add in the locations.\n",
    "heatmap_layer = gmaps.heatmap_layer(locations, weights=temperatures)\n",
    "\n",
    "# 5. Add the heatmap layer.\n",
    "fig.add_layer(heatmap_layer)\n",
    "# 6. Call the figure to plot the data.\n",
    "fig"
   ]
  },
  {
   "cell_type": "code",
   "execution_count": 14,
   "metadata": {},
   "outputs": [
    {
     "output_type": "display_data",
     "data": {
      "text/plain": "Figure(layout=FigureLayout(height='420px'))",
      "application/vnd.jupyter.widget-view+json": {
       "version_major": 2,
       "version_minor": 0,
       "model_id": "1bfa4614605248768aff335d01950bf4"
      }
     },
     "metadata": {}
    }
   ],
   "source": [
    "# Heatmap of temperature\n",
    "# Get the latitude and longitude.\n",
    "locations = city_data_df[[\"Lat\", \"Lng\"]]\n",
    "# Get the maximum temperature.\n",
    "max_temp = city_data_df[\"Max Temp\"]\n",
    "# Assign the figure variable.\n",
    "fig = gmaps.figure(center=(30.0, 31.0), zoom_level=1.5)\n",
    "# Assign the heatmap variable.\n",
    "heat_layer = gmaps.heatmap_layer(locations, weights=temps, dissipating=False, max_intensity=300, point_radius=4)\n",
    "# Add the heatmap layer.\n",
    "fig.add_layer(heat_layer)\n",
    "# Call the figure to plot the data.\n",
    "fig"
   ]
  },
  {
   "cell_type": "code",
   "execution_count": 9,
   "metadata": {},
   "outputs": [],
   "source": [
    "# Get the maximum temperature.\n",
    "max_temp = city_data_df[\"Max Temp\"]\n",
    "temps = []\n",
    "for temp in max_temp:\n",
    "    temps.append(max(temp, 0))"
   ]
  },
  {
   "cell_type": "code",
   "execution_count": 10,
   "metadata": {},
   "outputs": [],
   "source": [
    "heat_layer = gmaps.heatmap_layer(locations, weights=temps)"
   ]
  },
  {
   "cell_type": "code",
   "execution_count": 15,
   "metadata": {},
   "outputs": [
    {
     "output_type": "display_data",
     "data": {
      "text/plain": "Figure(layout=FigureLayout(height='420px'))",
      "application/vnd.jupyter.widget-view+json": {
       "version_major": 2,
       "version_minor": 0,
       "model_id": "4f48eef5551d4ef897012da0a840112d"
      }
     },
     "metadata": {}
    }
   ],
   "source": [
    "# Heatmap of percent humidity\n",
    "locations = city_data_df[[\"Lat\", \"Lng\"]]\n",
    "humidity = city_data_df[\"Humidity\"]\n",
    "fig = gmaps.figure(center=(30.0, 31.0), zoom_level=1.5)\n",
    "heat_layer = gmaps.heatmap_layer(locations, weights=humidity, dissipating=False, max_intensity=300, point_radius=4)\n",
    "\n",
    "fig.add_layer(heat_layer)\n",
    "# Call the figure to plot the data.\n",
    "fig"
   ]
  },
  {
   "cell_type": "code",
   "execution_count": 16,
   "metadata": {},
   "outputs": [
    {
     "output_type": "display_data",
     "data": {
      "text/plain": "Figure(layout=FigureLayout(height='420px'))",
      "application/vnd.jupyter.widget-view+json": {
       "version_major": 2,
       "version_minor": 0,
       "model_id": "f69013fe64af488186f44c923eaf8c39"
      }
     },
     "metadata": {}
    }
   ],
   "source": [
    "# Heatmap of percent humidity\n",
    "locations = city_data_df[[\"Lat\", \"Lng\"]]\n",
    "clouds = city_data_df[\"Cloudiness\"]\n",
    "fig = gmaps.figure(center=(30.0, 31.0), zoom_level=1.5)\n",
    "heat_layer = gmaps.heatmap_layer(locations, weights=clouds, dissipating=False, max_intensity=300, point_radius=4)\n",
    "\n",
    "fig.add_layer(heat_layer)\n",
    "# Call the figure to plot the data.\n",
    "fig"
   ]
  },
  {
   "cell_type": "code",
   "execution_count": 17,
   "metadata": {},
   "outputs": [
    {
     "output_type": "display_data",
     "data": {
      "text/plain": "Figure(layout=FigureLayout(height='420px'))",
      "application/vnd.jupyter.widget-view+json": {
       "version_major": 2,
       "version_minor": 0,
       "model_id": "4be7dec1b06a41908d96b2160cb7ef46"
      }
     },
     "metadata": {}
    }
   ],
   "source": [
    "# Heatmap of percent humidity\n",
    "locations = city_data_df[[\"Lat\", \"Lng\"]]\n",
    "wind = city_data_df[\"Wind Speed\"]\n",
    "fig = gmaps.figure(center=(30.0, 31.0), zoom_level=1.5)\n",
    "heat_layer = gmaps.heatmap_layer(locations, weights=wind, dissipating=False, max_intensity=300, point_radius=4)\n",
    "\n",
    "fig.add_layer(heat_layer)\n",
    "# Call the figure to plot the data.\n",
    "fig"
   ]
  },
  {
   "cell_type": "code",
   "execution_count": 33,
   "metadata": {},
   "outputs": [],
   "source": [
    "# Ask the customer to add a minimum and maximum temperature value.\n",
    "min_temp = float(input(\"What is the minimum temperature you would like for your trip? \"))\n",
    "max_temp = float(input(\"What is the maximum temperature you would like for your trip? \"))"
   ]
  },
  {
   "cell_type": "code",
   "execution_count": 34,
   "metadata": {},
   "outputs": [
    {
     "output_type": "execute_result",
     "data": {
      "text/plain": [
       "    City_ID           City Country                 Date      Lat       Lng  \\\n",
       "4         4        Kumluca      TR  2021-05-24 19:56:52  36.3703   30.2869   \n",
       "6         6     Port Blair      IN  2021-05-24 19:54:20  11.6667   92.7500   \n",
       "8         8        Rikitea      PF  2021-05-24 19:53:00 -23.1203 -134.9692   \n",
       "14       14  Saint Anthony      US  2021-05-24 19:53:06  45.0205  -93.2180   \n",
       "15       15         Atuona      PF  2021-05-24 19:53:09  -9.8000 -139.0333   \n",
       "26       26      Jamestown      US  2021-05-24 19:49:59  42.0970  -79.2353   \n",
       "31       31       Ko Samui      TH  2021-05-24 19:56:57   9.5357   99.9357   \n",
       "34       34      Kingsport      US  2021-05-24 19:56:57  36.5484  -82.5618   \n",
       "35       35         Albany      US  2021-05-24 19:51:35  42.6001  -73.9662   \n",
       "38       38        Bubaque      GW  2021-05-24 19:56:58  11.2833  -15.8333   \n",
       "\n",
       "    Max Temp  Humidity  Cloudiness  Wind Speed  \n",
       "4      77.95        35           1        7.70  \n",
       "6      83.34        82         100       23.31  \n",
       "8      76.42        82         100       18.92  \n",
       "14     85.89        57          75        3.00  \n",
       "15     80.24        76          19       18.90  \n",
       "26     75.85        61          90        5.99  \n",
       "31     85.10        72         100       17.25  \n",
       "34     89.11        44          85        4.00  \n",
       "35     75.15        35          46        3.49  \n",
       "38     79.03        76          77       23.17  "
      ],
      "text/html": "<div>\n<style scoped>\n    .dataframe tbody tr th:only-of-type {\n        vertical-align: middle;\n    }\n\n    .dataframe tbody tr th {\n        vertical-align: top;\n    }\n\n    .dataframe thead th {\n        text-align: right;\n    }\n</style>\n<table border=\"1\" class=\"dataframe\">\n  <thead>\n    <tr style=\"text-align: right;\">\n      <th></th>\n      <th>City_ID</th>\n      <th>City</th>\n      <th>Country</th>\n      <th>Date</th>\n      <th>Lat</th>\n      <th>Lng</th>\n      <th>Max Temp</th>\n      <th>Humidity</th>\n      <th>Cloudiness</th>\n      <th>Wind Speed</th>\n    </tr>\n  </thead>\n  <tbody>\n    <tr>\n      <th>4</th>\n      <td>4</td>\n      <td>Kumluca</td>\n      <td>TR</td>\n      <td>2021-05-24 19:56:52</td>\n      <td>36.3703</td>\n      <td>30.2869</td>\n      <td>77.95</td>\n      <td>35</td>\n      <td>1</td>\n      <td>7.70</td>\n    </tr>\n    <tr>\n      <th>6</th>\n      <td>6</td>\n      <td>Port Blair</td>\n      <td>IN</td>\n      <td>2021-05-24 19:54:20</td>\n      <td>11.6667</td>\n      <td>92.7500</td>\n      <td>83.34</td>\n      <td>82</td>\n      <td>100</td>\n      <td>23.31</td>\n    </tr>\n    <tr>\n      <th>8</th>\n      <td>8</td>\n      <td>Rikitea</td>\n      <td>PF</td>\n      <td>2021-05-24 19:53:00</td>\n      <td>-23.1203</td>\n      <td>-134.9692</td>\n      <td>76.42</td>\n      <td>82</td>\n      <td>100</td>\n      <td>18.92</td>\n    </tr>\n    <tr>\n      <th>14</th>\n      <td>14</td>\n      <td>Saint Anthony</td>\n      <td>US</td>\n      <td>2021-05-24 19:53:06</td>\n      <td>45.0205</td>\n      <td>-93.2180</td>\n      <td>85.89</td>\n      <td>57</td>\n      <td>75</td>\n      <td>3.00</td>\n    </tr>\n    <tr>\n      <th>15</th>\n      <td>15</td>\n      <td>Atuona</td>\n      <td>PF</td>\n      <td>2021-05-24 19:53:09</td>\n      <td>-9.8000</td>\n      <td>-139.0333</td>\n      <td>80.24</td>\n      <td>76</td>\n      <td>19</td>\n      <td>18.90</td>\n    </tr>\n    <tr>\n      <th>26</th>\n      <td>26</td>\n      <td>Jamestown</td>\n      <td>US</td>\n      <td>2021-05-24 19:49:59</td>\n      <td>42.0970</td>\n      <td>-79.2353</td>\n      <td>75.85</td>\n      <td>61</td>\n      <td>90</td>\n      <td>5.99</td>\n    </tr>\n    <tr>\n      <th>31</th>\n      <td>31</td>\n      <td>Ko Samui</td>\n      <td>TH</td>\n      <td>2021-05-24 19:56:57</td>\n      <td>9.5357</td>\n      <td>99.9357</td>\n      <td>85.10</td>\n      <td>72</td>\n      <td>100</td>\n      <td>17.25</td>\n    </tr>\n    <tr>\n      <th>34</th>\n      <td>34</td>\n      <td>Kingsport</td>\n      <td>US</td>\n      <td>2021-05-24 19:56:57</td>\n      <td>36.5484</td>\n      <td>-82.5618</td>\n      <td>89.11</td>\n      <td>44</td>\n      <td>85</td>\n      <td>4.00</td>\n    </tr>\n    <tr>\n      <th>35</th>\n      <td>35</td>\n      <td>Albany</td>\n      <td>US</td>\n      <td>2021-05-24 19:51:35</td>\n      <td>42.6001</td>\n      <td>-73.9662</td>\n      <td>75.15</td>\n      <td>35</td>\n      <td>46</td>\n      <td>3.49</td>\n    </tr>\n    <tr>\n      <th>38</th>\n      <td>38</td>\n      <td>Bubaque</td>\n      <td>GW</td>\n      <td>2021-05-24 19:56:58</td>\n      <td>11.2833</td>\n      <td>-15.8333</td>\n      <td>79.03</td>\n      <td>76</td>\n      <td>77</td>\n      <td>23.17</td>\n    </tr>\n  </tbody>\n</table>\n</div>"
     },
     "metadata": {},
     "execution_count": 34
    }
   ],
   "source": [
    "# Filter the dataset to find the cities that fit the criteria.\n",
    "preferred_cities_df = city_data_df.loc[(city_data_df[\"Max Temp\"] <= max_temp) & \\\n",
    "                                       (city_data_df[\"Max Temp\"] >= min_temp)]\n",
    "preferred_cities_df.head(10)"
   ]
  },
  {
   "cell_type": "code",
   "execution_count": 35,
   "metadata": {},
   "outputs": [
    {
     "output_type": "execute_result",
     "data": {
      "text/plain": [
       "City_ID       167\n",
       "City          167\n",
       "Country       167\n",
       "Date          167\n",
       "Lat           167\n",
       "Lng           167\n",
       "Max Temp      167\n",
       "Humidity      167\n",
       "Cloudiness    167\n",
       "Wind Speed    167\n",
       "dtype: int64"
      ]
     },
     "metadata": {},
     "execution_count": 35
    }
   ],
   "source": [
    "preferred_cities_df.count()"
   ]
  },
  {
   "cell_type": "code",
   "execution_count": 36,
   "metadata": {},
   "outputs": [
    {
     "output_type": "execute_result",
     "data": {
      "text/plain": [
       "             City Country  Max Temp      Lat       Lng Hotel Name\n",
       "4         Kumluca      TR     77.95  36.3703   30.2869           \n",
       "6      Port Blair      IN     83.34  11.6667   92.7500           \n",
       "8         Rikitea      PF     76.42 -23.1203 -134.9692           \n",
       "14  Saint Anthony      US     85.89  45.0205  -93.2180           \n",
       "15         Atuona      PF     80.24  -9.8000 -139.0333           \n",
       "26      Jamestown      US     75.85  42.0970  -79.2353           \n",
       "31       Ko Samui      TH     85.10   9.5357   99.9357           \n",
       "34      Kingsport      US     89.11  36.5484  -82.5618           \n",
       "35         Albany      US     75.15  42.6001  -73.9662           \n",
       "38        Bubaque      GW     79.03  11.2833  -15.8333           "
      ],
      "text/html": "<div>\n<style scoped>\n    .dataframe tbody tr th:only-of-type {\n        vertical-align: middle;\n    }\n\n    .dataframe tbody tr th {\n        vertical-align: top;\n    }\n\n    .dataframe thead th {\n        text-align: right;\n    }\n</style>\n<table border=\"1\" class=\"dataframe\">\n  <thead>\n    <tr style=\"text-align: right;\">\n      <th></th>\n      <th>City</th>\n      <th>Country</th>\n      <th>Max Temp</th>\n      <th>Lat</th>\n      <th>Lng</th>\n      <th>Hotel Name</th>\n    </tr>\n  </thead>\n  <tbody>\n    <tr>\n      <th>4</th>\n      <td>Kumluca</td>\n      <td>TR</td>\n      <td>77.95</td>\n      <td>36.3703</td>\n      <td>30.2869</td>\n      <td></td>\n    </tr>\n    <tr>\n      <th>6</th>\n      <td>Port Blair</td>\n      <td>IN</td>\n      <td>83.34</td>\n      <td>11.6667</td>\n      <td>92.7500</td>\n      <td></td>\n    </tr>\n    <tr>\n      <th>8</th>\n      <td>Rikitea</td>\n      <td>PF</td>\n      <td>76.42</td>\n      <td>-23.1203</td>\n      <td>-134.9692</td>\n      <td></td>\n    </tr>\n    <tr>\n      <th>14</th>\n      <td>Saint Anthony</td>\n      <td>US</td>\n      <td>85.89</td>\n      <td>45.0205</td>\n      <td>-93.2180</td>\n      <td></td>\n    </tr>\n    <tr>\n      <th>15</th>\n      <td>Atuona</td>\n      <td>PF</td>\n      <td>80.24</td>\n      <td>-9.8000</td>\n      <td>-139.0333</td>\n      <td></td>\n    </tr>\n    <tr>\n      <th>26</th>\n      <td>Jamestown</td>\n      <td>US</td>\n      <td>75.85</td>\n      <td>42.0970</td>\n      <td>-79.2353</td>\n      <td></td>\n    </tr>\n    <tr>\n      <th>31</th>\n      <td>Ko Samui</td>\n      <td>TH</td>\n      <td>85.10</td>\n      <td>9.5357</td>\n      <td>99.9357</td>\n      <td></td>\n    </tr>\n    <tr>\n      <th>34</th>\n      <td>Kingsport</td>\n      <td>US</td>\n      <td>89.11</td>\n      <td>36.5484</td>\n      <td>-82.5618</td>\n      <td></td>\n    </tr>\n    <tr>\n      <th>35</th>\n      <td>Albany</td>\n      <td>US</td>\n      <td>75.15</td>\n      <td>42.6001</td>\n      <td>-73.9662</td>\n      <td></td>\n    </tr>\n    <tr>\n      <th>38</th>\n      <td>Bubaque</td>\n      <td>GW</td>\n      <td>79.03</td>\n      <td>11.2833</td>\n      <td>-15.8333</td>\n      <td></td>\n    </tr>\n  </tbody>\n</table>\n</div>"
     },
     "metadata": {},
     "execution_count": 36
    }
   ],
   "source": [
    "# Create DataFrame called hotel_df to store hotel names along with city, country, max temp, and coordinates.\n",
    "hotel_df = preferred_cities_df[[\"City\", \"Country\", \"Max Temp\", \"Lat\", \"Lng\"]].copy()\n",
    "hotel_df[\"Hotel Name\"] = \"\"\n",
    "hotel_df.head(10)"
   ]
  },
  {
   "cell_type": "code",
   "execution_count": 37,
   "metadata": {},
   "outputs": [],
   "source": [
    "# Set parameters to search for a hotel.\n",
    "params = {\n",
    "    \"radius\": 5000,\n",
    "    \"type\": \"lodging\",\n",
    "    \"key\": g_key\n",
    "}"
   ]
  },
  {
   "cell_type": "code",
   "execution_count": 50,
   "metadata": {},
   "outputs": [],
   "source": [
    "# Iterate through the DataFrame.\n",
    "for index, row in hotel_df.iterrows():\n",
    "    # Get the latitude and longitude.\n",
    "    lat = row[\"Lat\"]\n",
    "    lng = row[\"Lng\"]\n",
    "\n",
    "    # Add the latitude and longitude to location key for the params dictionary.\n",
    "    params[\"location\"] = f\"{lat},{lng}\"\n",
    "\n",
    "    # Use the search term: \"lodging\" and our latitude and longitude.\n",
    "    base_url = \"https://maps.googleapis.com/maps/api/place/nearbysearch/json\"\n",
    "    # Make request and get the JSON data from the search.\n",
    "    hotels = requests.get(base_url, params=params).json()\n",
    "    # Grab the first hotel from the results and store the name.\n",
    "try:\n",
    "    hotel_df.loc[index, \"Hotel Name\"] = hotels[\"results\"][0][\"name\"]\n",
    "except (IndexError):\n",
    "    print(\"Hotel not found... skipping.\")"
   ]
  },
  {
   "cell_type": "code",
   "execution_count": 49,
   "metadata": {},
   "outputs": [
    {
     "output_type": "execute_result",
     "data": {
      "text/plain": [
       "             City Country  Max Temp      Lat       Lng  \\\n",
       "4         Kumluca      TR     77.95  36.3703   30.2869   \n",
       "6      Port Blair      IN     83.34  11.6667   92.7500   \n",
       "8         Rikitea      PF     76.42 -23.1203 -134.9692   \n",
       "14  Saint Anthony      US     85.89  45.0205  -93.2180   \n",
       "15         Atuona      PF     80.24  -9.8000 -139.0333   \n",
       "26      Jamestown      US     75.85  42.0970  -79.2353   \n",
       "31       Ko Samui      TH     85.10   9.5357   99.9357   \n",
       "34      Kingsport      US     89.11  36.5484  -82.5618   \n",
       "35         Albany      US     75.15  42.6001  -73.9662   \n",
       "38        Bubaque      GW     79.03  11.2833  -15.8333   \n",
       "\n",
       "                                           Hotel Name  \n",
       "4                                          TurkuazKöy  \n",
       "6                   Welcomhotel Bay Island Port Blair  \n",
       "8                                      Pension Maro'i  \n",
       "14  Holiday Inn Express Roseville-St. Paul, an IHG...  \n",
       "15                                        Villa Enata  \n",
       "26                     Hampton Inn & Suites Jamestown  \n",
       "31        The Passage Samui Villas & Resort, Thailand  \n",
       "34   MeadowView Conference Resort & Convention Center  \n",
       "35                                                     \n",
       "38                                                     "
      ],
      "text/html": "<div>\n<style scoped>\n    .dataframe tbody tr th:only-of-type {\n        vertical-align: middle;\n    }\n\n    .dataframe tbody tr th {\n        vertical-align: top;\n    }\n\n    .dataframe thead th {\n        text-align: right;\n    }\n</style>\n<table border=\"1\" class=\"dataframe\">\n  <thead>\n    <tr style=\"text-align: right;\">\n      <th></th>\n      <th>City</th>\n      <th>Country</th>\n      <th>Max Temp</th>\n      <th>Lat</th>\n      <th>Lng</th>\n      <th>Hotel Name</th>\n    </tr>\n  </thead>\n  <tbody>\n    <tr>\n      <th>4</th>\n      <td>Kumluca</td>\n      <td>TR</td>\n      <td>77.95</td>\n      <td>36.3703</td>\n      <td>30.2869</td>\n      <td>TurkuazKöy</td>\n    </tr>\n    <tr>\n      <th>6</th>\n      <td>Port Blair</td>\n      <td>IN</td>\n      <td>83.34</td>\n      <td>11.6667</td>\n      <td>92.7500</td>\n      <td>Welcomhotel Bay Island Port Blair</td>\n    </tr>\n    <tr>\n      <th>8</th>\n      <td>Rikitea</td>\n      <td>PF</td>\n      <td>76.42</td>\n      <td>-23.1203</td>\n      <td>-134.9692</td>\n      <td>Pension Maro'i</td>\n    </tr>\n    <tr>\n      <th>14</th>\n      <td>Saint Anthony</td>\n      <td>US</td>\n      <td>85.89</td>\n      <td>45.0205</td>\n      <td>-93.2180</td>\n      <td>Holiday Inn Express Roseville-St. Paul, an IHG...</td>\n    </tr>\n    <tr>\n      <th>15</th>\n      <td>Atuona</td>\n      <td>PF</td>\n      <td>80.24</td>\n      <td>-9.8000</td>\n      <td>-139.0333</td>\n      <td>Villa Enata</td>\n    </tr>\n    <tr>\n      <th>26</th>\n      <td>Jamestown</td>\n      <td>US</td>\n      <td>75.85</td>\n      <td>42.0970</td>\n      <td>-79.2353</td>\n      <td>Hampton Inn &amp; Suites Jamestown</td>\n    </tr>\n    <tr>\n      <th>31</th>\n      <td>Ko Samui</td>\n      <td>TH</td>\n      <td>85.10</td>\n      <td>9.5357</td>\n      <td>99.9357</td>\n      <td>The Passage Samui Villas &amp; Resort, Thailand</td>\n    </tr>\n    <tr>\n      <th>34</th>\n      <td>Kingsport</td>\n      <td>US</td>\n      <td>89.11</td>\n      <td>36.5484</td>\n      <td>-82.5618</td>\n      <td>MeadowView Conference Resort &amp; Convention Center</td>\n    </tr>\n    <tr>\n      <th>35</th>\n      <td>Albany</td>\n      <td>US</td>\n      <td>75.15</td>\n      <td>42.6001</td>\n      <td>-73.9662</td>\n      <td></td>\n    </tr>\n    <tr>\n      <th>38</th>\n      <td>Bubaque</td>\n      <td>GW</td>\n      <td>79.03</td>\n      <td>11.2833</td>\n      <td>-15.8333</td>\n      <td></td>\n    </tr>\n  </tbody>\n</table>\n</div>"
     },
     "metadata": {},
     "execution_count": 49
    }
   ],
   "source": [
    "hotel_df.head(10)"
   ]
  },
  {
   "cell_type": "code",
   "execution_count": 51,
   "metadata": {},
   "outputs": [
    {
     "output_type": "display_data",
     "data": {
      "text/plain": "Figure(layout=FigureLayout(height='420px'))",
      "application/vnd.jupyter.widget-view+json": {
       "version_major": 2,
       "version_minor": 0,
       "model_id": "94e22b4d1b7a4aefb38f325f3e9a02e5"
      }
     },
     "metadata": {}
    }
   ],
   "source": [
    "# Add a heatmap of temperature for the vacation spots.\n",
    "locations = hotel_df[[\"Lat\", \"Lng\"]]\n",
    "max_temp = hotel_df[\"Max Temp\"]\n",
    "fig = gmaps.figure(center=(30.0, 31.0), zoom_level=1.5)\n",
    "heat_layer = gmaps.heatmap_layer(locations, weights=max_temp, dissipating=False,\n",
    "             max_intensity=300, point_radius=4)\n",
    "\n",
    "fig.add_layer(heat_layer)\n",
    "# Call the figure to plot the data.\n",
    "fig"
   ]
  },
  {
   "cell_type": "code",
   "execution_count": 52,
   "metadata": {},
   "outputs": [
    {
     "output_type": "display_data",
     "data": {
      "text/plain": "Figure(layout=FigureLayout(height='420px'))",
      "application/vnd.jupyter.widget-view+json": {
       "version_major": 2,
       "version_minor": 0,
       "model_id": "461e05ab34894575ab02cfd26c88f52f"
      }
     },
     "metadata": {}
    }
   ],
   "source": [
    "# Add a heatmap of temperature for the vacation spots and marker for each city.\n",
    "locations = hotel_df[[\"Lat\", \"Lng\"]]\n",
    "max_temp = hotel_df[\"Max Temp\"]\n",
    "fig = gmaps.figure(center=(30.0, 31.0), zoom_level=1.5)\n",
    "heat_layer = gmaps.heatmap_layer(locations, weights=max_temp,\n",
    "             dissipating=False, max_intensity=300, point_radius=4)\n",
    "marker_layer = gmaps.marker_layer(locations)\n",
    "fig.add_layer(heat_layer)\n",
    "fig.add_layer(marker_layer)\n",
    "# Call the figure to plot the data.\n",
    "fig"
   ]
  },
  {
   "cell_type": "code",
   "execution_count": 58,
   "metadata": {},
   "outputs": [],
   "source": [
    "info_box_template = \"\"\"\n",
    "<dl>\n",
    "<dt>Name</dt><dd>{column1}</dd>\n",
    "<dt>Another name</dt><dd>{column2}</dd>\n",
    "</dl>\n",
    "\"\"\""
   ]
  },
  {
   "cell_type": "code",
   "execution_count": 61,
   "metadata": {},
   "outputs": [],
   "source": [
    "info_box_template = \"\"\"\n",
    "<dl>\n",
    "<dt>Hotel Name</dt><dd>{Hotel Name}</dd>\n",
    "<dt>City</dt><dd>{City}</dd>\n",
    "<dt>Country</dt><dd>{Country}</dd>\n",
    "<dt>Max Temp</dt><dd>{Max Temp} °F</dd>\n",
    "</dl>\n",
    "\"\"\"\n",
    "# Store the DataFrame Row.\n",
    "hotel_info = [info_box_template.format(**row) for index, row in hotel_df.iterrows()]"
   ]
  },
  {
   "cell_type": "code",
   "execution_count": 62,
   "metadata": {},
   "outputs": [
    {
     "output_type": "display_data",
     "data": {
      "text/plain": "Figure(layout=FigureLayout(height='420px'))",
      "application/vnd.jupyter.widget-view+json": {
       "version_major": 2,
       "version_minor": 0,
       "model_id": "3a2fa1329b8c46cba47e3ec8177cab16"
      }
     },
     "metadata": {}
    }
   ],
   "source": [
    "# Add a heatmap of temperature for the vacation spots and a pop-up marker for each city.\n",
    "locations = hotel_df[[\"Lat\", \"Lng\"]]\n",
    "max_temp = hotel_df[\"Max Temp\"]\n",
    "fig = gmaps.figure(center=(30.0, 31.0), zoom_level=1.5)\n",
    "heat_layer = gmaps.heatmap_layer(locations, weights=max_temp,dissipating=False,\n",
    "             max_intensity=300, point_radius=4)\n",
    "marker_layer = gmaps.marker_layer(locations, info_box_content=hotel_info)\n",
    "fig.add_layer(heat_layer)\n",
    "fig.add_layer(marker_layer)\n",
    "\n",
    "# Call the figure to plot the data.\n",
    "fig"
   ]
  },
  {
   "cell_type": "code",
   "execution_count": null,
   "metadata": {},
   "outputs": [],
   "source": []
  }
 ],
 "metadata": {
  "kernelspec": {
   "name": "pythondata",
   "display_name": "Python 3.7.9 64-bit ('PythonData': conda)"
  },
  "language_info": {
   "codemirror_mode": {
    "name": "ipython",
    "version": 3
   },
   "file_extension": ".py",
   "mimetype": "text/x-python",
   "name": "python",
   "nbconvert_exporter": "python",
   "pygments_lexer": "ipython3",
   "version": "3.7.9"
  }
 },
 "nbformat": 4,
 "nbformat_minor": 4
}